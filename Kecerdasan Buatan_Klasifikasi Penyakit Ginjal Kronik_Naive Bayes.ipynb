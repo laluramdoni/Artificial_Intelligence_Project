{
 "cells": [
  {
   "cell_type": "markdown",
   "id": "d924f3d5",
   "metadata": {},
   "source": [
    "<center>    <h1>KECERDASAN BUATAN</h1>   </center>"
   ]
  },
  {
   "cell_type": "markdown",
   "id": "64e3bd16",
   "metadata": {},
   "source": [
    "<h3>Anggota Kelompok :<h3>\n",
    "    <ol>\n",
    "<li>Lalu Ramdoni Hidayat (F1D021102) LEAD</li>\n",
    "<li>Shafa Nindira Cahyani (F1D021067)</li>\n",
    "<li>Baiq Kaimya Al Saadah Al Ghazali (F1D021082)</li>\n",
    "<li>Elvita Wilia Kartika (F1D021086)</li>\n",
    "<li>Faza Alliya Audistry Putri Ronce (F1D021090)</li>\n",
    "</ol>"
   ]
  },
  {
   "attachments": {},
   "cell_type": "markdown",
   "id": "3c581728",
   "metadata": {},
   "source": [
    "<div style=\"display:fill;\n",
    "           border-radius:5px;\n",
    "           font-family:montserrat;\n",
    "           letter-spacing:0.5px;\n",
    "           background-color:skyblue;\">\n",
    "\n",
    "<p style=\"padding: 10px;\n",
    "              color:black;\n",
    "              text-align:center;\n",
    "              font-size:200%;\n",
    "              font-weight:800;\">\n",
    "              ~Chronic Kidney Disease~          \n",
    "</p>\n",
    "</div>"
   ]
  },
  {
   "attachments": {},
   "cell_type": "markdown",
   "id": "6ab2603e",
   "metadata": {},
   "source": [
    "<div style=\"display:fill;\n",
    "           border-radius:5px;\n",
    "           font-family:montserrat;\n",
    "           letter-spacing:0.5px;\n",
    "           background-color:skyblue;\">\n",
    "\n",
    "<p style=\"padding: 10px;\n",
    "              color:black;\n",
    "              text-align:center;\n",
    "              font-size:200%;\n",
    "              font-weight:800;\">\n",
    "              Klasifikasi Ginjal Kronik Menggunakan Metode Naive Bayes             \n",
    "</p>\n",
    "</div>"
   ]
  },
  {
   "attachments": {},
   "cell_type": "markdown",
   "id": "5261b94d",
   "metadata": {},
   "source": [
    "<div style=\"color:orange;\n",
    "           display:fill;\n",
    "           border-radius:5px;\n",
    "           font-family:montserrat;\n",
    "           letter-spacing:0.5px;\n",
    "            text-align:center;\n",
    "            padding: 1px;\">\n",
    "\n",
    "<p style=\"padding: 6px;\n",
    "            color:white;\n",
    "            text-align:center;\n",
    "            font-size:150%;\">\n",
    "            IMPLEMENTASI NAIVE BAYES DALAM KLASIFIKASI PENYAKIT GINJAL KRONIK !\n",
    "</p>\n",
    "</div>"
   ]
  },
  {
   "cell_type": "code",
   "execution_count": 1,
   "id": "7137aace",
   "metadata": {},
   "outputs": [],
   "source": [
    "import pandas as pd\n",
    "from sklearn.model_selection import train_test_split\n",
    "from sklearn.naive_bayes import GaussianNB\n",
    "from sklearn.metrics import accuracy_score\n",
    "import numpy as np\n",
    "import matplotlib.pyplot as plt\n",
    "import seaborn as sns"
   ]
  },
  {
   "cell_type": "markdown",
   "id": "0219bd14",
   "metadata": {},
   "source": [
    "Dalam kode ini, kita mengimpor beberapa pustaka yang diperlukan untuk analisis data dan pembuatan model. Pertama, kita menggunakan Pandas untuk manipulasi dan analisis data, kemudian scikit-learn untuk pembagian data menjadi set pelatihan dan pengujian, serta untuk membangun model Naïve Bayes dengan metode Gaussian. Selanjutnya, kita mengimpor fungsi untuk mengukur akurasi model dan menggunakan NumPy untuk operasi numerik. Terakhir, Matplotlib dan Seaborn digunakan untuk visualisasi data.\n",
    "\n",
    "Pertama-tama, data dapat dimuat menggunakan Pandas dengan mengimpor dataset yang diperlukan. Setelah itu, dataset dibagi menjadi set pelatihan dan pengujian menggunakan fungsi train_test_split dari scikit-learn. Hal ini diperlukan untuk menguji kinerja model pada data yang tidak pernah dilihat sebelumnya.\n",
    "\n",
    "Selanjutnya, model Naïve Bayes dengan metode Gaussian diterapkan dan dilatih menggunakan set pelatihan. Setelah model dilatih, kita dapat menggunakan set pengujian untuk membuat prediksi, dan akurasi model diukur menggunakan fungsi accuracy_score dari scikit-learn. NumPy digunakan untuk operasi numerik, yang mungkin diperlukan selama analisis.\n",
    "\n",
    "Terakhir, Matplotlib dan Seaborn digunakan untuk visualisasi data. Visualisasi dapat mencakup plot distribusi fitur, heatmap korelasi, atau grafik lainnya untuk membantu pemahaman karakteristik data. Penggunaan Matplotlib dan Seaborn dapat memperkaya analisis data dan memberikan wawasan yang lebih mendalam terhadap struktur dan pola dalam dataset."
   ]
  },
  {
   "attachments": {},
   "cell_type": "markdown",
   "id": "3e174dff",
   "metadata": {},
   "source": [
    "<div style=\"color:orange;\n",
    "           display:fill;\n",
    "           border-radius:5px;\n",
    "           font-family:montserrat;\n",
    "           letter-spacing:0.5px;\n",
    "            text-align:center;\n",
    "            padding: 1px;\">\n",
    "\n",
    "<p style=\"padding: 6px;\n",
    "            color:white;\n",
    "            text-align:center;\n",
    "            font-size:150%;\">            \n",
    "            Preprocessing Data\n",
    "</p>\n",
    "</div>"
   ]
  },
  {
   "cell_type": "code",
   "execution_count": 2,
   "id": "c67967c4",
   "metadata": {},
   "outputs": [
    {
     "data": {
      "text/html": [
       "<div>\n",
       "<style scoped>\n",
       "    .dataframe tbody tr th:only-of-type {\n",
       "        vertical-align: middle;\n",
       "    }\n",
       "\n",
       "    .dataframe tbody tr th {\n",
       "        vertical-align: top;\n",
       "    }\n",
       "\n",
       "    .dataframe thead th {\n",
       "        text-align: right;\n",
       "    }\n",
       "</style>\n",
       "<table border=\"1\" class=\"dataframe\">\n",
       "  <thead>\n",
       "    <tr style=\"text-align: right;\">\n",
       "      <th></th>\n",
       "      <th>id</th>\n",
       "      <th>umur</th>\n",
       "      <th>tekanandarah</th>\n",
       "      <th>gravitas</th>\n",
       "      <th>albumin</th>\n",
       "      <th>sugar</th>\n",
       "      <th>seldarahmerah</th>\n",
       "      <th>pussel</th>\n",
       "      <th>puscell</th>\n",
       "      <th>bakteri</th>\n",
       "      <th>...</th>\n",
       "      <th>MCV</th>\n",
       "      <th>seldarahputih</th>\n",
       "      <th>seldarahmerah.1</th>\n",
       "      <th>hipertensi</th>\n",
       "      <th>diabetes</th>\n",
       "      <th>cad</th>\n",
       "      <th>nafsumakan</th>\n",
       "      <th>edema</th>\n",
       "      <th>anemia</th>\n",
       "      <th>klasifikasi</th>\n",
       "    </tr>\n",
       "  </thead>\n",
       "  <tbody>\n",
       "    <tr>\n",
       "      <th>0</th>\n",
       "      <td>0</td>\n",
       "      <td>48.0</td>\n",
       "      <td>80.0</td>\n",
       "      <td>1.020</td>\n",
       "      <td>1.0</td>\n",
       "      <td>0.0</td>\n",
       "      <td>NaN</td>\n",
       "      <td>normal</td>\n",
       "      <td>notpresent</td>\n",
       "      <td>notpresent</td>\n",
       "      <td>...</td>\n",
       "      <td>44</td>\n",
       "      <td>7800</td>\n",
       "      <td>5.2</td>\n",
       "      <td>yes</td>\n",
       "      <td>yes</td>\n",
       "      <td>no</td>\n",
       "      <td>good</td>\n",
       "      <td>no</td>\n",
       "      <td>no</td>\n",
       "      <td>ckd</td>\n",
       "    </tr>\n",
       "    <tr>\n",
       "      <th>1</th>\n",
       "      <td>1</td>\n",
       "      <td>7.0</td>\n",
       "      <td>50.0</td>\n",
       "      <td>1.020</td>\n",
       "      <td>4.0</td>\n",
       "      <td>0.0</td>\n",
       "      <td>NaN</td>\n",
       "      <td>normal</td>\n",
       "      <td>notpresent</td>\n",
       "      <td>notpresent</td>\n",
       "      <td>...</td>\n",
       "      <td>38</td>\n",
       "      <td>6000</td>\n",
       "      <td>NaN</td>\n",
       "      <td>no</td>\n",
       "      <td>no</td>\n",
       "      <td>no</td>\n",
       "      <td>good</td>\n",
       "      <td>no</td>\n",
       "      <td>no</td>\n",
       "      <td>ckd</td>\n",
       "    </tr>\n",
       "    <tr>\n",
       "      <th>2</th>\n",
       "      <td>2</td>\n",
       "      <td>62.0</td>\n",
       "      <td>80.0</td>\n",
       "      <td>1.010</td>\n",
       "      <td>2.0</td>\n",
       "      <td>3.0</td>\n",
       "      <td>normal</td>\n",
       "      <td>normal</td>\n",
       "      <td>notpresent</td>\n",
       "      <td>notpresent</td>\n",
       "      <td>...</td>\n",
       "      <td>31</td>\n",
       "      <td>7500</td>\n",
       "      <td>NaN</td>\n",
       "      <td>no</td>\n",
       "      <td>yes</td>\n",
       "      <td>no</td>\n",
       "      <td>poor</td>\n",
       "      <td>no</td>\n",
       "      <td>yes</td>\n",
       "      <td>ckd</td>\n",
       "    </tr>\n",
       "    <tr>\n",
       "      <th>3</th>\n",
       "      <td>3</td>\n",
       "      <td>48.0</td>\n",
       "      <td>70.0</td>\n",
       "      <td>1.005</td>\n",
       "      <td>4.0</td>\n",
       "      <td>0.0</td>\n",
       "      <td>normal</td>\n",
       "      <td>abnormal</td>\n",
       "      <td>present</td>\n",
       "      <td>notpresent</td>\n",
       "      <td>...</td>\n",
       "      <td>32</td>\n",
       "      <td>6700</td>\n",
       "      <td>3.9</td>\n",
       "      <td>yes</td>\n",
       "      <td>no</td>\n",
       "      <td>no</td>\n",
       "      <td>poor</td>\n",
       "      <td>yes</td>\n",
       "      <td>yes</td>\n",
       "      <td>ckd</td>\n",
       "    </tr>\n",
       "    <tr>\n",
       "      <th>4</th>\n",
       "      <td>4</td>\n",
       "      <td>51.0</td>\n",
       "      <td>80.0</td>\n",
       "      <td>1.010</td>\n",
       "      <td>2.0</td>\n",
       "      <td>0.0</td>\n",
       "      <td>normal</td>\n",
       "      <td>normal</td>\n",
       "      <td>notpresent</td>\n",
       "      <td>notpresent</td>\n",
       "      <td>...</td>\n",
       "      <td>35</td>\n",
       "      <td>7300</td>\n",
       "      <td>4.6</td>\n",
       "      <td>no</td>\n",
       "      <td>no</td>\n",
       "      <td>no</td>\n",
       "      <td>good</td>\n",
       "      <td>no</td>\n",
       "      <td>no</td>\n",
       "      <td>ckd</td>\n",
       "    </tr>\n",
       "  </tbody>\n",
       "</table>\n",
       "<p>5 rows × 26 columns</p>\n",
       "</div>"
      ],
      "text/plain": [
       "   id  umur  tekanandarah  gravitas  albumin  sugar seldarahmerah    pussel   \n",
       "0   0  48.0          80.0     1.020      1.0    0.0           NaN    normal  \\\n",
       "1   1   7.0          50.0     1.020      4.0    0.0           NaN    normal   \n",
       "2   2  62.0          80.0     1.010      2.0    3.0        normal    normal   \n",
       "3   3  48.0          70.0     1.005      4.0    0.0        normal  abnormal   \n",
       "4   4  51.0          80.0     1.010      2.0    0.0        normal    normal   \n",
       "\n",
       "      puscell     bakteri  ...  MCV  seldarahputih  seldarahmerah.1   \n",
       "0  notpresent  notpresent  ...   44           7800              5.2  \\\n",
       "1  notpresent  notpresent  ...   38           6000              NaN   \n",
       "2  notpresent  notpresent  ...   31           7500              NaN   \n",
       "3     present  notpresent  ...   32           6700              3.9   \n",
       "4  notpresent  notpresent  ...   35           7300              4.6   \n",
       "\n",
       "   hipertensi  diabetes  cad nafsumakan edema anemia klasifikasi  \n",
       "0         yes       yes   no       good    no     no         ckd  \n",
       "1          no        no   no       good    no     no         ckd  \n",
       "2          no       yes   no       poor    no    yes         ckd  \n",
       "3         yes        no   no       poor   yes    yes         ckd  \n",
       "4          no        no   no       good    no     no         ckd  \n",
       "\n",
       "[5 rows x 26 columns]"
      ]
     },
     "execution_count": 2,
     "metadata": {},
     "output_type": "execute_result"
    }
   ],
   "source": [
    "# Load Chronic Kidney Disease dataset\n",
    "kidney_data = pd.read_csv(\"penyakit_ginjal_kronik.csv\") #data tentang penyakit ginjal kronik\n",
    "kidney_data.head()"
   ]
  },
  {
   "cell_type": "markdown",
   "id": "f219f47b",
   "metadata": {},
   "source": [
    "Kode di atas bertujuan untuk memuat dataset mengenai penyakit ginjal kronis ke dalam program menggunakan library Pandas pada bahasa pemrograman Python. Pertama, kita membaca file CSV yang berisi data penyakit ginjal kronis menggunakan fungsi pd.read_csv(\"penyakit_ginjal_kronik.csv\"). Pada baris ini, pd merujuk pada Pandas, library yang digunakan untuk manipulasi dan analisis data. Kemudian, kita menyertakan komentar (#) untuk memberikan penjelasan tambahan bahwa kita sedang memuat data tentang penyakit ginjal kronis dari file CSV yang bernama \"penyakit_ginjal_kronik.csv\". Setelah dataset dimuat, kita menggunakan metode .head() untuk menampilkan lima baris pertama dari dataset tersebut. Ini membantu kita untuk melihat struktur dan konten awal dari dataset penyakit ginjal kronis."
   ]
  },
  {
   "cell_type": "code",
   "execution_count": 3,
   "id": "b54c7ccc",
   "metadata": {},
   "outputs": [
    {
     "name": "stdout",
     "output_type": "stream",
     "text": [
      "<class 'pandas.core.frame.DataFrame'>\n",
      "RangeIndex: 400 entries, 0 to 399\n",
      "Data columns (total 26 columns):\n",
      " #   Column           Non-Null Count  Dtype  \n",
      "---  ------           --------------  -----  \n",
      " 0   id               400 non-null    int64  \n",
      " 1   umur             391 non-null    float64\n",
      " 2   tekanandarah     388 non-null    float64\n",
      " 3   gravitas         353 non-null    float64\n",
      " 4   albumin          354 non-null    float64\n",
      " 5   sugar            351 non-null    float64\n",
      " 6   seldarahmerah    248 non-null    object \n",
      " 7   pussel           335 non-null    object \n",
      " 8   puscell          396 non-null    object \n",
      " 9   bakteri          396 non-null    object \n",
      " 10  gds              356 non-null    float64\n",
      " 11  ureum            381 non-null    float64\n",
      " 12  kreatinin        383 non-null    float64\n",
      " 13  natrium          313 non-null    float64\n",
      " 14  kalium           312 non-null    float64\n",
      " 15  hemoglobin       348 non-null    float64\n",
      " 16  MCV              330 non-null    object \n",
      " 17  seldarahputih    295 non-null    object \n",
      " 18  seldarahmerah.1  270 non-null    object \n",
      " 19  hipertensi       398 non-null    object \n",
      " 20  diabetes         398 non-null    object \n",
      " 21  cad              398 non-null    object \n",
      " 22  nafsumakan       399 non-null    object \n",
      " 23  edema            399 non-null    object \n",
      " 24  anemia           399 non-null    object \n",
      " 25  klasifikasi      400 non-null    object \n",
      "dtypes: float64(11), int64(1), object(14)\n",
      "memory usage: 81.4+ KB\n"
     ]
    }
   ],
   "source": [
    "# Explore the dataset\n",
    "kidney_data.info()"
   ]
  },
  {
   "cell_type": "markdown",
   "id": "a7e82340",
   "metadata": {},
   "source": [
    "Fungsi info() digunakan untuk memberikan informasi terperinci tentang struktur dataset, termasuk jumlah entri (baris), jumlah kolom, tipe data masing-masing kolom, dan jumlah nilai non-null (tidak kosong) di setiap kolom. "
   ]
  },
  {
   "cell_type": "code",
   "execution_count": 4,
   "id": "cf8e23ce",
   "metadata": {},
   "outputs": [
    {
     "data": {
      "image/png": "[encoded data removed]",
      "text/plain": [
       "<Figure size 640x480 with 1 Axes>"
      ]
     },
     "metadata": {},
     "output_type": "display_data"
    }
   ],
   "source": [
    "# Visualizations\n",
    "sns.countplot(y=\"hipertensi\", data=kidney_data, palette=\"mako_r\")\n",
    "plt.show()"
   ]
  },
  {
   "cell_type": "markdown",
   "id": "a6c927c1",
   "metadata": {},
   "source": [
    "Fungsi sns.countplot(y=\"hipertensi\", data=kidney_data, palette=\"mako_r\") menggunakan library Seaborn (sns) untuk membuat count plot dengan sumbu y menunjukkan kategori \"hipertensi\". Parameter data diisi dengan kidney_data, yang merupakan dataset yang berisi informasi tentang penyakit ginjal kronis.\n",
    "\n",
    "Palet warna yang digunakan diatur dengan parameter palette yang disetel ke \"mako_r\". Pengaturan warna ini dapat disesuaikan dengan preferensi visual atau keperluan tertentu. Setelah semua konfigurasi selesai, plot ditampilkan menggunakan plt.show().\n",
    "\n",
    "Dengan visualisasi ini, kita dapat dengan cepat melihat distribusi kategori \"hipertensi\" dalam dataset"
   ]
  },
  {
   "cell_type": "code",
   "execution_count": 5,
   "id": "7b6eee96",
   "metadata": {},
   "outputs": [
    {
     "name": "stderr",
     "output_type": "stream",
     "text": [
      "C:\\Users\\HP\\AppData\\Local\\Packages\\PythonSoftwareFoundation.Python.3.11_qbz5n2kfra8p0\\LocalCache\\local-packages\\Python311\\site-packages\\IPython\\core\\pylabtools.py:152: UserWarning: Glyph 9 (\t) missing from current font.\n",
      "  fig.canvas.print_figure(bytes_io, **kw)\n"
     ]
    },
    {
     "data": {
      "image/png": "[encoded data removed]",
      "text/plain": [
       "<Figure size 640x480 with 1 Axes>"
      ]
     },
     "metadata": {},
     "output_type": "display_data"
    }
   ],
   "source": [
    "sns.countplot(x='diabetes', data=kidney_data, palette=\"bwr\")\n",
    "plt.xlabel(\"diabetes (0 = female, 1 = male)\")\n",
    "plt.show()"
   ]
  },
  {
   "cell_type": "markdown",
   "id": "375ad8d4",
   "metadata": {},
   "source": [
    "sns.countplot(x='diabetes', data=kidney_data, palette=\"bwr\"):\n",
    "\n",
    "sns.countplot adalah fungsi dari library Seaborn yang digunakan untuk membuat countplot, yaitu sebuah plot batang yang menunjukkan jumlah frekuensi masing-masing kategori pada variabel tertentu.\n",
    "x='diabetes' menunjukkan bahwa sumbu x pada countplot akan mewakili variabel 'diabetes'.\n",
    "data=kidney_data menyatakan bahwa data yang digunakan untuk plot berasal dari DataFrame kidney_data.\n",
    "palette=\"bwr\" menentukan skema warna yang digunakan pada plot. Dalam hal ini, menggunakan skema warna \"bwr\" yang merepresentasikan dua kategori dengan warna biru (blue) dan merah (red).\n",
    "plt.xlabel(\"diabetes (0 = female, 1 = male)\"):\n",
    "\n",
    "plt.xlabel digunakan untuk memberikan label pada sumbu x, yang dalam hal ini berisi keterangan tentang variabel 'diabetes'. Label tersebut adalah \"diabetes (0 = female, 1 = male)\".\n",
    "plt.show():\n",
    "\n",
    "plt.show() digunakan untuk menampilkan plot.\n",
    "Dengan code ini, kita dapat dengan cepat melihat distribusi variabel 'diabetes' dalam dataset, dan seberapa banyak kasus diabetes pada kelompok gender yang dinyatakan dengan angka 0 (female) dan 1 (male)."
   ]
  },
  {
   "cell_type": "code",
   "execution_count": 6,
   "id": "08a5e948",
   "metadata": {},
   "outputs": [
    {
     "name": "stderr",
     "output_type": "stream",
     "text": [
      "C:\\Users\\HP\\AppData\\Local\\Packages\\PythonSoftwareFoundation.Python.3.11_qbz5n2kfra8p0\\LocalCache\\local-packages\\Python311\\site-packages\\IPython\\core\\pylabtools.py:152: UserWarning: Glyph 9 (\t) missing from current font.\n",
      "  fig.canvas.print_figure(bytes_io, **kw)\n"
     ]
    },
    {
     "data": {
      "image/png": "[encoded data removed]",
      "text/plain": [
       "<Figure size 1500x600 with 1 Axes>"
      ]
     },
     "metadata": {},
     "output_type": "display_data"
    }
   ],
   "source": [
    "plt.figure(figsize=(15, 6))\n",
    "sns.countplot(x='diabetes', data=kidney_data, hue='sugar', palette='mako_r')\n",
    "plt.show()"
   ]
  },
  {
   "cell_type": "markdown",
   "id": "979def51",
   "metadata": {},
   "source": [
    "\n",
    "Hasilnya adalah visualisasi yang memberikan informasi tentang sebaran jumlah pasien dengan diabetes berdasarkan status gula dalam darah, dengan warna yang membedakan kategori sugar."
   ]
  },
  {
   "cell_type": "code",
   "execution_count": 7,
   "id": "1994d469",
   "metadata": {},
   "outputs": [],
   "source": [
    "# Define independent and dependent variables\n",
    "X_kidney = kidney_data.drop([\"hipertensi\"], axis=1)\n",
    "y_kidney = kidney_data[\"hipertensi\"]"
   ]
  },
  {
   "cell_type": "markdown",
   "id": "37a99c17",
   "metadata": {},
   "source": [
    "Dalam blok kode di atas, terdapat dua langkah utama yang dilakukan untuk mempersiapkan data untuk analisis lebih lanjut. Pertama, kita mendefinisikan variabel independen (X_kidney) dan variabel dependen (y_kidney). Variabel independen adalah himpunan fitur atau atribut yang akan digunakan sebagai input untuk model, sedangkan variabel dependen adalah target atau label yang ingin diprediksi oleh model.\n",
    "Pada bagian pertama, variabel independen (X_kidney) didefinisikan dengan menggunakan fungsi drop pada dataset kidney_data. Atribut \"hipertensi\" dihapus dari dataset menggunakan argumen axis=1, yang mengindikasikan bahwa kita menghapus kolom, bukan baris. Dengan demikian, X_kidney berisi semua fitur kecuali variabel target \"hipertensi\".\n",
    "\n",
    "Pada bagian kedua, variabel dependen (y_kidney) didefinisikan sebagai kolom \"hipertensi\" dari dataset kidney_data. Ini menciptakan satu set label yang sesuai dengan data yang akan kita gunakan untuk melatih dan menguji model klasifikasi. Dengan langkah-langkah ini, kita telah memisahkan input (fitur) dan output (label) dengan benar untuk analisis selanjutnya."
   ]
  },
  {
   "cell_type": "code",
   "execution_count": 16,
   "id": "83be754f",
   "metadata": {},
   "outputs": [],
   "source": [
    "# Split the data\n",
    "x_train_kidney, x_test_kidney, y_train_kidney, y_test_kidney = train_test_split(X_kidney, y_kidney, test_size=0.2, random_state=123)"
   ]
  },
  {
   "cell_type": "markdown",
   "id": "345672d8",
   "metadata": {},
   "source": [
    "train_test_split: Fungsi ini berasal dari library scikit-learn dan digunakan untuk membagi dataset menjadi dua bagian, yakni data pelatihan dan data uji.\n",
    "X_kidney dan y_kidney: Merupakan variabel yang menyimpan fitur (X) dan label (y) dari dataset penyakit ginjal.\n",
    "test_size=0.2: Parameter ini menentukan proporsi data yang akan digunakan sebagai data uji. Dalam contoh ini, data uji akan menyusun 20% dari keseluruhan dataset.\n",
    "random_state=123: Parameter ini memastikan bahwa hasil pembagian data dapat direproduksi dengan nilai seed tertentu (123 dalam hal ini). Ini bermanfaat ketika Anda ingin hasil yang konsisten setiap kali menjalankan kode yang melibatkan pembagian data acak."
   ]
  },
  {
   "cell_type": "code",
   "execution_count": 17,
   "id": "c3cd5af7",
   "metadata": {},
   "outputs": [],
   "source": [
    "from sklearn.metrics import classification_report"
   ]
  },
  {
   "cell_type": "code",
   "execution_count": 25,
   "id": "91972c52",
   "metadata": {},
   "outputs": [],
   "source": [
    "from sklearn.impute import SimpleImputer\n",
    "from sklearn.compose import ColumnTransformer\n",
    "from sklearn.preprocessing import StandardScaler, OneHotEncoder\n",
    "from sklearn.naive_bayes import GaussianNB\n",
    "from sklearn.metrics import accuracy_score"
   ]
  },
  {
   "cell_type": "code",
   "execution_count": 26,
   "id": "59154ebd",
   "metadata": {},
   "outputs": [],
   "source": [
    "# Menentukan kolom numerik dan kategorikal\n",
    "numeric_features = x_train_kidney.select_dtypes(include=['float64', 'int64']).columns\n",
    "categorical_features = x_train_kidney.select_dtypes(include=['object']).columns"
   ]
  },
  {
   "cell_type": "markdown",
   "id": "5b39ddbd",
   "metadata": {},
   "source": [
    "Dalam kode tersebut, kita memiliki dua baris yang bertujuan untuk memisahkan kolom-kolom dalam dataset menjadi dua kategori: numerik dan kategorikal.\n",
    "\n",
    "Pertama-tama, kita mencari kolom-kolom yang memiliki tipe data numerik, seperti bilangan bulat (int64) dan desimal (float64). Ini dilakukan dengan menggunakan metode select_dtypes pada dataframe x_train_kidney dan menyertakan tipe data yang ingin dipilih, yaitu 'float64' dan 'int64'. Hasilnya disimpan dalam variabel numeric_features.\n",
    "\n",
    "Kemudian, kita melakukan hal yang serupa untuk kolom-kolom kategorikal. Di sini, kita memilih kolom-kolom dengan tipe data 'object' (misalnya, string atau kategori). Proses ini juga menggunakan metode select_dtypes dan hasilnya disimpan dalam variabel categorical_features.\n",
    "\n",
    "Dengan memisahkan kolom-kolom berdasarkan tipe data ini, kita dapat dengan mudah melakukan pemrosesan yang sesuai tergantung pada karakteristik masing-masing jenis kolom, seperti normalisasi pada data numerik atau encoding pada data kategorikal."
   ]
  },
  {
   "cell_type": "code",
   "execution_count": 27,
   "id": "baef6324",
   "metadata": {},
   "outputs": [],
   "source": [
    "# Menggunakan ColumnTransformer untuk memproses kolom numerik dan kategorikal\n",
    "preprocessor = ColumnTransformer(\n",
    "    transformers=[\n",
    "        ('numeric', SimpleImputer(strategy='mean'), numeric_features),\n",
    "        ('categorical', SimpleImputer(strategy='most_frequent'), categorical_features)\n",
    "    ])"
   ]
  },
  {
   "cell_type": "markdown",
   "id": "4aea1b66",
   "metadata": {},
   "source": [
    "Code tersebut menggambarkan penggunaan ColumnTransformer dalam pemrosesan data pada kolom numerik dan kategorikal. ColumnTransformer digunakan untuk menerapkan transformer (transformasi data) khusus pada subset kolom tertentu dalam suatu dataset.\n",
    "Dengan menggunakan ColumnTransformer ini, pemrosesan data dapat dijalankan pada kolom-kolom numerik dan kategorikal secara terpisah, dengan menerapkan imputasi yang sesuai untuk setiap jenis kolom. Hal ini merupakan langkah penting dalam pra-pemrosesan data sebelum melakukan pemodelan\n"
   ]
  },
  {
   "cell_type": "code",
   "execution_count": 28,
   "id": "08f466d4",
   "metadata": {},
   "outputs": [],
   "source": [
    "# Menggantikan nilai NaN dalam data latih\n",
    "x_train_kidney_imputed = preprocessor.fit_transform(x_train_kidney)\n",
    "x_test_kidney_imputed = preprocessor.transform(x_test_kidney)"
   ]
  },
  {
   "cell_type": "markdown",
   "id": "a34e4d20",
   "metadata": {},
   "source": [
    "Dengan mengatasi nilai-nilai NaN, kita memastikan bahwa model dapat menerima input yang lengkap dan konsisten, sehingga dapat memberikan hasil prediksi yang lebih akurat dan dapat diandalkan. Proses ini merupakan bagian dari tahapan pre-processing yang esensial dalam persiapan data sebelum melibatkan model machine learning."
   ]
  },
  {
   "cell_type": "code",
   "execution_count": 33,
   "id": "c65d1300",
   "metadata": {},
   "outputs": [],
   "source": [
    "import pandas as pd\n"
   ]
  },
  {
   "cell_type": "code",
   "execution_count": 45,
   "id": "f82fbac7",
   "metadata": {},
   "outputs": [],
   "source": [
    "# Mengecek apakah ada nilai NaN setelah imputasi\n",
    "if np.any(pd.isna(x_train_kidney_imputed)) or np.any(pd.isna(x_test_kidney_imputed)):\n",
    "    raise ValueError(\"Dataset contains NaN values after imputation\")\n"
   ]
  },
  {
   "cell_type": "code",
   "execution_count": 56,
   "id": "904015d6",
   "metadata": {},
   "outputs": [],
   "source": [
    "# Mengecek dan menggantikan nilai NaN dalam target variable\n",
    "if y_train_kidney.isnull().any():\n",
    "    y_train_kidney = y_train_kidney.fillna(y_train_kidney.mode().iloc[0])  # Mengganti NaN dengan modus"
   ]
  },
  {
   "cell_type": "code",
   "execution_count": 68,
   "id": "b2c33038",
   "metadata": {},
   "outputs": [
    {
     "data": {
      "text/html": [
       "<style>#sk-container-id-4 {color: black;background-color: white;}#sk-container-id-4 pre{padding: 0;}#sk-container-id-4 div.sk-toggleable {background-color: white;}#sk-container-id-4 label.sk-toggleable__label {cursor: pointer;display: block;width: 100%;margin-bottom: 0;padding: 0.3em;box-sizing: border-box;text-align: center;}#sk-container-id-4 label.sk-toggleable__label-arrow:before {content: \"▸\";float: left;margin-right: 0.25em;color: #696969;}#sk-container-id-4 label.sk-toggleable__label-arrow:hover:before {color: black;}#sk-container-id-4 div.sk-estimator:hover label.sk-toggleable__label-arrow:before {color: black;}#sk-container-id-4 div.sk-toggleable__content {max-height: 0;max-width: 0;overflow: hidden;text-align: left;background-color: #f0f8ff;}#sk-container-id-4 div.sk-toggleable__content pre {margin: 0.2em;color: black;border-radius: 0.25em;background-color: #f0f8ff;}#sk-container-id-4 input.sk-toggleable__control:checked~div.sk-toggleable__content {max-height: 200px;max-width: 100%;overflow: auto;}#sk-container-id-4 input.sk-toggleable__control:checked~label.sk-toggleable__label-arrow:before {content: \"▾\";}#sk-container-id-4 div.sk-estimator input.sk-toggleable__control:checked~label.sk-toggleable__label {background-color: #d4ebff;}#sk-container-id-4 div.sk-label input.sk-toggleable__control:checked~label.sk-toggleable__label {background-color: #d4ebff;}#sk-container-id-4 input.sk-hidden--visually {border: 0;clip: rect(1px 1px 1px 1px);clip: rect(1px, 1px, 1px, 1px);height: 1px;margin: -1px;overflow: hidden;padding: 0;position: absolute;width: 1px;}#sk-container-id-4 div.sk-estimator {font-family: monospace;background-color: #f0f8ff;border: 1px dotted black;border-radius: 0.25em;box-sizing: border-box;margin-bottom: 0.5em;}#sk-container-id-4 div.sk-estimator:hover {background-color: #d4ebff;}#sk-container-id-4 div.sk-parallel-item::after {content: \"\";width: 100%;border-bottom: 1px solid gray;flex-grow: 1;}#sk-container-id-4 div.sk-label:hover label.sk-toggleable__label {background-color: #d4ebff;}#sk-container-id-4 div.sk-serial::before {content: \"\";position: absolute;border-left: 1px solid gray;box-sizing: border-box;top: 0;bottom: 0;left: 50%;z-index: 0;}#sk-container-id-4 div.sk-serial {display: flex;flex-direction: column;align-items: center;background-color: white;padding-right: 0.2em;padding-left: 0.2em;position: relative;}#sk-container-id-4 div.sk-item {position: relative;z-index: 1;}#sk-container-id-4 div.sk-parallel {display: flex;align-items: stretch;justify-content: center;background-color: white;position: relative;}#sk-container-id-4 div.sk-item::before, #sk-container-id-4 div.sk-parallel-item::before {content: \"\";position: absolute;border-left: 1px solid gray;box-sizing: border-box;top: 0;bottom: 0;left: 50%;z-index: -1;}#sk-container-id-4 div.sk-parallel-item {display: flex;flex-direction: column;z-index: 1;position: relative;background-color: white;}#sk-container-id-4 div.sk-parallel-item:first-child::after {align-self: flex-end;width: 50%;}#sk-container-id-4 div.sk-parallel-item:last-child::after {align-self: flex-start;width: 50%;}#sk-container-id-4 div.sk-parallel-item:only-child::after {width: 0;}#sk-container-id-4 div.sk-dashed-wrapped {border: 1px dashed gray;margin: 0 0.4em 0.5em 0.4em;box-sizing: border-box;padding-bottom: 0.4em;background-color: white;}#sk-container-id-4 div.sk-label label {font-family: monospace;font-weight: bold;display: inline-block;line-height: 1.2em;}#sk-container-id-4 div.sk-label-container {text-align: center;}#sk-container-id-4 div.sk-container {/* jupyter's `normalize.less` sets `[hidden] { display: none; }` but bootstrap.min.css set `[hidden] { display: none !important; }` so we also need the `!important` here to be able to override the default hidden behavior on the sphinx rendered scikit-learn.org. See: https://github.com/scikit-learn/scikit-learn/issues/21755 */display: inline-block !important;position: relative;}#sk-container-id-4 div.sk-text-repr-fallback {display: none;}</style><div id=\"sk-container-id-4\" class=\"sk-top-container\"><div class=\"sk-text-repr-fallback\"><pre>GaussianNB()</pre><b>In a Jupyter environment, please rerun this cell to show the HTML representation or trust the notebook. <br />On GitHub, the HTML representation is unable to render, please try loading this page with nbviewer.org.</b></div><div class=\"sk-container\" hidden><div class=\"sk-item\"><div class=\"sk-estimator sk-toggleable\"><input class=\"sk-toggleable__control sk-hidden--visually\" id=\"sk-estimator-id-4\" type=\"checkbox\" checked><label for=\"sk-estimator-id-4\" class=\"sk-toggleable__label sk-toggleable__label-arrow\">GaussianNB</label><div class=\"sk-toggleable__content\"><pre>GaussianNB()</pre></div></div></div></div></div>"
      ],
      "text/plain": [
       "GaussianNB()"
      ]
     },
     "execution_count": 68,
     "metadata": {},
     "output_type": "execute_result"
    }
   ],
   "source": [
    "# Membuat dan melatih model Naïve Bayes setelah menggantikan nilai NaN\n",
    "modelnb_kidney = GaussianNB()\n",
    "modelnb_kidney.fit(x_train_kidney_imputed.toarray(), y_train_kidney)"
   ]
  },
  {
   "cell_type": "markdown",
   "id": "c2b1845a",
   "metadata": {},
   "source": [
    "\n",
    "Code ini berfungsi untuk membuat dan melatih model menggunakan algoritma Naïve Bayes setelah melakukan penggantian nilai NaN pada data latih. Pertama, model Naïve Bayes dengan tipe GaussianNB dideklarasikan sebagai modelnb_kidney. Tipe GaussianNB cocok untuk kasus data kontinu seperti yang umumnya ditemui dalam data medis. Kemudian, proses pelatihan model dilakukan dengan menggunakan metode fit(). Dalam hal ini, data latih yang telah diimputasi (dengan nilai NaN digantikan) direpresentasikan sebagai array menggunakan toarray(), dan labelnya diberikan oleh y_train_kidney."
   ]
  },
  {
   "cell_type": "code",
   "execution_count": 69,
   "id": "7fe27834",
   "metadata": {},
   "outputs": [],
   "source": [
    "# Menguji model menggunakan data uji\n",
    "y_pred_kidney = modelnb_kidney.predict(x_test_kidney_imputed.toarray())"
   ]
  },
  {
   "cell_type": "markdown",
   "id": "6ef053ae",
   "metadata": {},
   "source": [
    "Hasil prediksi yang dihasilkan (y_pred_kidney) kemudian dapat digunakan untuk melakukan evaluasi performa model, seperti menghitung akurasi atau membuat laporan klasifikasi."
   ]
  },
  {
   "cell_type": "code",
   "execution_count": 70,
   "id": "f1373ce5",
   "metadata": {},
   "outputs": [
    {
     "name": "stdout",
     "output_type": "stream",
     "text": [
      "Akurasi Naïve Bayes: 0.75\n"
     ]
    }
   ],
   "source": [
    "# Menghitung dan menampilkan akurasi\n",
    "accuracy_kidney = accuracy_score(y_test_kidney, y_pred_kidney)\n",
    "print(f\"Akurasi Naïve Bayes: {accuracy_kidney:.2f}\")"
   ]
  },
  {
   "cell_type": "markdown",
   "id": "16465cd2",
   "metadata": {},
   "source": [
    "dilakukan penghitungan akurasi untuk model Naïve Bayes yang telah dilatih sebelumnya. Fungsi accuracy_score dari library scikit-learn digunakan untuk mengukur sejauh mana model dapat memprediksi dengan benar berdasarkan data uji (y_test_kidney) dan prediksi yang dihasilkan oleh model (y_pred_kidney). Hasil akurasi kemudian disimpan dalam variabel accuracy_kidney.\n",
    "\n",
    "Setelah itu, dilakukan pencetakan hasil akurasi dengan menggunakan perintah print. Pesan yang ditampilkan mencakup informasi mengenai akurasi model Naïve Bayes dengan format desimal dua angka di belakang koma, yang dapat mempermudah interpretasi. Pada contoh hasil yang diberikan, akurasi model Naïve Bayes untuk diagnosis penyakit ginjal kronis adalah sebesar 0.75 atau 75%. Akurasi ini mencerminkan seberapa baik model dapat mengklasifikasikan data uji dengan benar, dan semakin tinggi nilai akurasi, semakin baik kinerja model dalam memprediksi hasil."
   ]
  },
  {
   "cell_type": "code",
   "execution_count": 71,
   "id": "f4f35acb",
   "metadata": {},
   "outputs": [
    {
     "name": "stdout",
     "output_type": "stream",
     "text": [
      "Classification Report:\n",
      "               precision    recall  f1-score   support\n",
      "\n",
      "          no       0.89      0.68      0.77        50\n",
      "         yes       0.62      0.87      0.72        30\n",
      "\n",
      "    accuracy                           0.75        80\n",
      "   macro avg       0.76      0.77      0.75        80\n",
      "weighted avg       0.79      0.75      0.75        80\n",
      "\n"
     ]
    }
   ],
   "source": [
    "# Menampilkan classification report\n",
    "class_report_kidney = classification_report(y_test_kidney, y_pred_kidney)\n",
    "print(\"Classification Report:\\n\", class_report_kidney)"
   ]
  },
  {
   "cell_type": "markdown",
   "id": "ed76c4f4",
   "metadata": {},
   "source": [
    "Kode di atas bertujuan untuk menampilkan laporan klasifikasi (classification report) dari model yang telah dilatih untuk mendiagnosis penyakit ginjal kronis. Pertama, fungsi classification_report digunakan dengan memberikan parameter label sebenarnya (y_test_kidney) dan label hasil prediksi (y_pred_kidney). Hasil laporan ini menyediakan metrik evaluasi yang mendetail, termasuk presisi, recall, f1-score, dan dukungan untuk setiap kelas."
   ]
  }
 ],
 "metadata": {
  "kernelspec": {
   "display_name": "Python 3 (ipykernel)",
   "language": "python",
   "name": "python3"
  },
  "language_info": {
   "codemirror_mode": {
    "name": "ipython",
    "version": 3
   },
   "file_extension": ".py",
   "mimetype": "text/x-python",
   "name": "python",
   "nbconvert_exporter": "python",
   "pygments_lexer": "ipython3",
   "version": "3.11.6"
  }
 },
 "nbformat": 4,
 "nbformat_minor": 5
}
